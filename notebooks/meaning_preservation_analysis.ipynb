{
 "cells": [
  {
   "cell_type": "markdown",
   "metadata": {},
   "source": [
    "# Meaning Preservation"
   ]
  },
  {
   "cell_type": "markdown",
   "metadata": {},
   "source": [
    "### Load data"
   ]
  },
  {
   "cell_type": "code",
   "execution_count": 1,
   "metadata": {},
   "outputs": [],
   "source": [
    "import pandas as pd\n",
    "\n",
    "textcomplexity = pd.read_csv('../data/textcomplexityde.csv', encoding='cp1252')\n",
    "leichtesprache = pd.read_csv('../data/leichtesprache2.csv', encoding='cp1252', sep=\";\")"
   ]
  },
  {
   "cell_type": "markdown",
   "metadata": {},
   "source": [
    "## Meaning Preservation score \n",
    "Based on sentence alignment + BERTScore similarities"
   ]
  },
  {
   "cell_type": "code",
   "execution_count": null,
   "metadata": {},
   "outputs": [],
   "source": [
    "import sys, os\n",
    "sys.path.append(os.path.abspath(os.path.join('..', '')))\n",
    "\n",
    "from bert_score import BERTScorer\n",
    "from reward.meaning_preservation import TextSimilarity\n",
    "\n",
    "# Load score\n",
    "bert_scorer = BERTScorer(\"dbmdz/bert-base-german-cased\", num_layers=5)\n",
    "text_sim = TextSimilarity(bert_scorer)"
   ]
  },
  {
   "cell_type": "markdown",
   "metadata": {},
   "source": [
    "Example with printing"
   ]
  },
  {
   "cell_type": "code",
   "execution_count": 3,
   "metadata": {},
   "outputs": [
    {
     "name": "stderr",
     "output_type": "stream",
     "text": [
      "Batches: 100%|██████████| 1/1 [00:02<00:00,  2.94s/it]\n",
      "Batches: 100%|██████████| 1/1 [00:00<00:00, 40.00it/s]\n"
     ]
    },
    {
     "name": "stdout",
     "output_type": "stream",
     "text": [
      "\n",
      " Original:  Seit einigen Jahren finden Rasiermesser jedoch auch zunehmend im Privatbereich wieder eine wachsende Verwendung.\n",
      "Simplification:  Seit einigen Jahren werden auch zuhause öfter Rasiermesser benutzt.\n",
      "Value:  tensor(0.7953, device='cuda:0')\n",
      "\n",
      " Original:  Die Klinge muss vor jeder Rasur auf einem Streichriemen abgeledert und in regelmäßigen Abständen nachgeschliffen werden, um die Schärfe der Schneide zu erhalten.\n",
      "Simplification:  Die Klinge muss vor jeder Rasur auf einem Lederriemen abgestrichen werden.\n",
      "Value:  tensor(0.8454, device='cuda:0')\n",
      "\n",
      " Original:  Die Klinge muss vor jeder Rasur auf einem Streichriemen abgeledert und in regelmäßigen Abständen nachgeschliffen werden, um die Schärfe der Schneide zu erhalten.\n",
      "Simplification:  In  regelmäßigen Abständen muss die Klinge nachgeschliffen werden, damit sie scharf bleibt.\n",
      "Value:  tensor(0.7837, device='cuda:0')\n",
      "\n",
      " Original:  Die Existenz von Barbieren ist durch Grabszenen belegt, so etwa im Grab des Userhet (KV45), eines hohen Beamten der 18.\n",
      "Simplification:  Die Existenz von Barbieren (Friseuren) ist durch Grabszenen belegt.\n",
      "Value:  tensor(0.7642, device='cuda:0')\n",
      "\n",
      " Original:  Dynastie (1550–1292 v. Chr.).\n",
      "Simplification:  Man findet solche z.B. im Grab des Userhet, dies war ein hoher Beamter der 18.Dynastie (1550-1292 v.Chr.)\n",
      "Value:  tensor(0.6025, device='cuda:0')\n",
      "\n",
      " Original:  Die Funktion dieser Messer ist laut Frank Gnegel, Autor einer Kulturgeschichte der Selbstrasur, „durch erhaltene Haarreste an den Schneiden eindeutig belegt“.\n",
      "Simplification:  Frank Gnegel ist Autor einer Kulturgeschichte der Selbstrasur.\n",
      "Value:  tensor(0.4236, device='cuda:0')\n",
      "\n",
      " Original:  Die Funktion dieser Messer ist laut Frank Gnegel, Autor einer Kulturgeschichte der Selbstrasur, „durch erhaltene Haarreste an den Schneiden eindeutig belegt“.\n",
      "Simplification:  Ihm nach ist die Funktion dieser Messer „durch erhaltene Haarreste an den Schneiden eindeutig belegt“.\n",
      "Value:  tensor(0.8677, device='cuda:0')\n",
      "\n",
      " Original:  In Pompeji gefundene Exemplare von frühen Klapp-Rasiermessern mit 12 Zentimeter langen trapezförmigen Klingen und Griffen aus Elfenbein gehörten als Luxusobjekte zum Hausstand höherer Schichten.\n",
      "Simplification:  In Pompeji wurden frühe Klapp-Rasiermesser gefunden.\n",
      "Value:  tensor(0.8319, device='cuda:0')\n",
      "\n",
      " Original:  In Pompeji gefundene Exemplare von frühen Klapp-Rasiermessern mit 12 Zentimeter langen trapezförmigen Klingen und Griffen aus Elfenbein gehörten als Luxusobjekte zum Hausstand höherer Schichten.\n",
      "Simplification:  Diese hatten 12 Zentimeter lange Klingen in der Form von einem Trapez und Griffe aus Elfenbein.\n",
      "Value:  tensor(0.6179, device='cuda:0')\n",
      "\n",
      " Original:  Mittelalterliche Bildquellen zeigen sowohl glattrasierte Kleriker als auch solche mit Vollbärten.\n",
      "Simplification:  Sie gehörten meistens reichen Leuten und waren Luxus-Objekte.\n",
      "Value:  tensor(0.3823, device='cuda:0')\n",
      "\n",
      " Original:  Seit der Spätantike war die Bartlosigkeit ein Kennzeichen des abendländischen Klerus.\n",
      "Simplification:  Seit der Spätantike war es ein Zeichen für die Geistlichkeiten, keinen Bart zu tragen.\n",
      "Value:  tensor(0.6288, device='cuda:0')\n",
      "\n",
      " Original:  Bei den Mönchsorden regelten genaue Vorschriften die Benutzung und Verwahrung der verwendeten Rasiermesser.\n",
      "Simplification:  Bei den Mönchsorden gab es genaue Vorschriften.\n",
      "Value:  tensor(0.7669, device='cuda:0')\n",
      "\n",
      " Original:  Die Klinge muss vor jeder Rasur auf einem Streichriemen abgeledert und in regelmäßigen Abständen nachgeschliffen werden, um die Schärfe der Schneide zu erhalten.\n",
      "Simplification:  So wurde genau geregelt, wie Rasiermesser benutzt und verwahrt werden sollten.\n",
      "Value:  tensor(0.6539, device='cuda:0')\n",
      "\n",
      " Original:  Sie wurden in einem geschlossenen Kasten aufbewahrt und von einem eigens hierfür bestimmten Bruder vor der Verwendung geschärft.\n",
      "Simplification:  Sie wurden in einem geschlossenen Kasten aufbewahrt.\n",
      "Value:  tensor(0.7038, device='cuda:0')\n",
      "\n",
      " Original:  Bei den Mönchsorden regelten genaue Vorschriften die Benutzung und Verwahrung der verwendeten Rasiermesser.\n",
      "Simplification:  Ein hierfür bestimmter Mönch schärfte sie vor der Verwendung.\n",
      "Value:  tensor(0.6188, device='cuda:0')\n",
      "\n",
      " Original:  Allerdings wurde das Rasieren nicht durchgängig einheitlich gehandhabt.\n",
      "Simplification:  Allerdings wurde nicht immer auf gleiche Art rasiert.\n",
      "Value:  tensor(0.7070, device='cuda:0')\n",
      "\n",
      " Original:  Mittelalterliche Bildquellen zeigen sowohl glattrasierte Kleriker als auch solche mit Vollbärten.\n",
      "Simplification:  Auf mittelalterlichen Bildern sieht man Geistliche mit und ohne Vollbart.\n",
      "Value:  tensor(0.7390, device='cuda:0')\n",
      "\n",
      " Original:  Erleichtert wurde der Vorgang allein in Badestuben, in denen Wasser oder Dämpfe das Barthaar vor der Verwendung des Rasiermessers erweichten.\n",
      "Simplification:  In Badstuben wurde das Barthaar mit Wasser oder Dämpfen vor dem Rasieren erweicht.\n",
      "Value:  tensor(0.8564, device='cuda:0')\n",
      "\n",
      " Original:  Die Klinge muss vor jeder Rasur auf einem Streichriemen abgeledert und in regelmäßigen Abständen nachgeschliffen werden, um die Schärfe der Schneide zu erhalten.\n",
      "Simplification:  Das erleichterte die Rasur mit dem Rasiermesser.\n",
      "Value:  tensor(0.6927, device='cuda:0')\n",
      "[0.7642461657524109, 0.7626384496688843, 0.7318145632743835, 0.7326474785804749, 0.9046186804771423, 0.7763895988464355, 0.7263407111167908, 0.6913307309150696, 0.7763352990150452, 0.6432808041572571, 0.5686262845993042, 0.7461947202682495]\n"
     ]
    },
    {
     "data": {
      "text/plain": [
       "[0.9076742246037437]"
      ]
     },
     "execution_count": 3,
     "metadata": {},
     "output_type": "execute_result"
    }
   ],
   "source": [
    "text_sim.score([textcomplexity['Complex'][6]], [textcomplexity['Simplification'][6]], printing=True)"
   ]
  },
  {
   "cell_type": "markdown",
   "metadata": {},
   "source": [
    "### Calculate Meaning Preservation Score for TC and LS"
   ]
  },
  {
   "cell_type": "code",
   "execution_count": null,
   "metadata": {},
   "outputs": [],
   "source": [
    "text_sim_scores_tc =  text_sim.score(textcomplexity['Complex'], textcomplexity['Simplification'])\n",
    "text_sim_scores_ls =  text_sim.score(leichtesprache['Complex'], leichtesprache['Simplification'])"
   ]
  },
  {
   "cell_type": "code",
   "execution_count": 9,
   "metadata": {},
   "outputs": [
    {
     "data": {
      "image/png": "[encoded data removed]",
      "text/plain": [
       "<Figure size 432x288 with 1 Axes>"
      ]
     },
     "metadata": {
      "needs_background": "light"
     },
     "output_type": "display_data"
    }
   ],
   "source": [
    "import matplotlib.pyplot as plt\n",
    "import numpy as np\n",
    "\n",
    "%matplotlib inline\n",
    "fig = plt.figure()\n",
    "\n",
    "ax = fig.add_axes([0,0,1,1])\n",
    "ax.bar(0, np.mean(text_sim_scores_tc), color = 'royalblue', width = 0.8)\n",
    "ax.bar(1, np.mean(text_sim_scores_ls), color = 'darkorange', width = 0.8)\n",
    "ax.set_ylabel('Score')\n",
    "ax.set_title('Average Meaning Preservation Scores')\n",
    "ax.set_xticks([0, 1])\n",
    "ax.set_xticklabels([\"TextComplexityDE\", \"GWW_Leichtesprache\"])\n",
    "\n",
    "plt.text(0, np.mean(text_sim_scores_tc), \"%.2f\" % np.mean(text_sim_scores_tc))\n",
    "plt.text(1, np.mean(text_sim_scores_ls), \"%.2f\" % np.mean(text_sim_scores_ls))\n",
    "\n",
    "plt.show()"
   ]
  }
 ],
 "metadata": {
  "interpreter": {
   "hash": "b3ba2566441a7c06988d0923437866b63cedc61552a5af99d1f4fb67d367b25f"
  },
  "kernelspec": {
   "display_name": "PyCharm (MA)",
   "language": "python",
   "name": "python3"
  },
  "language_info": {
   "codemirror_mode": {
    "name": "ipython",
    "version": 3
   },
   "file_extension": ".py",
   "mimetype": "text/x-python",
   "name": "python",
   "nbconvert_exporter": "python",
   "pygments_lexer": "ipython3",
   "version": "3.7.3"
  },
  "orig_nbformat": 4
 },
 "nbformat": 4,
 "nbformat_minor": 2
}

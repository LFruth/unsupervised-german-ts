{
 "cells": [
  {
   "cell_type": "markdown",
   "metadata": {},
   "source": [
    "# Pivot model\n",
    "\n",
    "This notebook generates simplifications with the KiS-based Pivot model.\n",
    "\n",
    "These simplifications can then be evaluated in the evaluation.ipynb.\n",
    "\n",
    "This notebook requires the [KiS repository](https://github.com/tingofurro/keep_it_simple) and the [released KiS model](https://github.com/tingofurro/keep_it_simple/releases/tag/0.1)."
   ]
  },
  {
   "cell_type": "markdown",
   "metadata": {},
   "source": [
    "### Load the datasets"
   ]
  },
  {
   "cell_type": "code",
   "execution_count": 2,
   "metadata": {},
   "outputs": [
    {
     "data": {
      "text/html": [
       "<div>\n",
       "<style scoped>\n",
       "    .dataframe tbody tr th:only-of-type {\n",
       "        vertical-align: middle;\n",
       "    }\n",
       "\n",
       "    .dataframe tbody tr th {\n",
       "        vertical-align: top;\n",
       "    }\n",
       "\n",
       "    .dataframe thead th {\n",
       "        text-align: right;\n",
       "    }\n",
       "</style>\n",
       "<table border=\"1\" class=\"dataframe\">\n",
       "  <thead>\n",
       "    <tr style=\"text-align: right;\">\n",
       "      <th></th>\n",
       "      <th>paragraph</th>\n",
       "      <th>size</th>\n",
       "      <th>guts1</th>\n",
       "      <th>guts2</th>\n",
       "      <th>guts3</th>\n",
       "      <th>pivot</th>\n",
       "    </tr>\n",
       "  </thead>\n",
       "  <tbody>\n",
       "    <tr>\n",
       "      <th>0</th>\n",
       "      <td>Erst ab 1860 unter Fürst Adolf Georg wurden di...</td>\n",
       "      <td>medium</td>\n",
       "      <td>Erst ab 1860 unter Fürsten Adolf Georg wurden ...</td>\n",
       "      <td>Schon ab 1860 unter Fürst Ad wurden die Schlos...</td>\n",
       "      <td>NaN</td>\n",
       "      <td>Erst 1860 wurden die Palasträume komplett reno...</td>\n",
       "    </tr>\n",
       "    <tr>\n",
       "      <th>1</th>\n",
       "      <td>Im Jahr 2000 fand der österreichische Flieger ...</td>\n",
       "      <td>short</td>\n",
       "      <td>Das Jahr 2000 fand der österreichischen Fliege...</td>\n",
       "      <td>Im Jahr 2000 fand die österreichische Flieger ...</td>\n",
       "      <td>NaN</td>\n",
       "      <td>Im Jahr 2000 fand der österreichische Pilot Si...</td>\n",
       "    </tr>\n",
       "    <tr>\n",
       "      <th>2</th>\n",
       "      <td>Der Ort Arbing ist am Fuß der mittelalterliche...</td>\n",
       "      <td>long</td>\n",
       "      <td>Das Ort Arbing ist im 15 Gebäude entstanden un...</td>\n",
       "      <td>Der Ort Arbing am Fuß der mittelalterlichen St...</td>\n",
       "      <td>NaN</td>\n",
       "      <td>Das Dorf Arbing liegt am Fuße des mittelalterl...</td>\n",
       "    </tr>\n",
       "    <tr>\n",
       "      <th>3</th>\n",
       "      <td>Die Ortschaften im Verwaltungsbezirk der Bürge...</td>\n",
       "      <td>long</td>\n",
       "      <td>Die Ortschaften im Verwaltungs Bezirk der Bürg...</td>\n",
       "      <td>Die Ortschaften im Verwaltungsgebiet der Bürge...</td>\n",
       "      <td>NaN</td>\n",
       "      <td>Vor 1794 gehörte Bleialf zu Prüm, dessen Fürst...</td>\n",
       "    </tr>\n",
       "    <tr>\n",
       "      <th>4</th>\n",
       "      <td>Die Ortschaft ist über die A726, die Strathave...</td>\n",
       "      <td>medium</td>\n",
       "      <td>Die Ortschaft ist über den A726, über East Kil...</td>\n",
       "      <td>Die Ortschaft ist über A7, die Strathaven mit ...</td>\n",
       "      <td>NaN</td>\n",
       "      <td>Das Dorf ist mit dem Straßennetz über die A726...</td>\n",
       "    </tr>\n",
       "  </tbody>\n",
       "</table>\n",
       "</div>"
      ],
      "text/plain": [
       "                                           paragraph    size  \\\n",
       "0  Erst ab 1860 unter Fürst Adolf Georg wurden di...  medium   \n",
       "1  Im Jahr 2000 fand der österreichische Flieger ...   short   \n",
       "2  Der Ort Arbing ist am Fuß der mittelalterliche...    long   \n",
       "3  Die Ortschaften im Verwaltungsbezirk der Bürge...    long   \n",
       "4  Die Ortschaft ist über die A726, die Strathave...  medium   \n",
       "\n",
       "                                               guts1  \\\n",
       "0  Erst ab 1860 unter Fürsten Adolf Georg wurden ...   \n",
       "1  Das Jahr 2000 fand der österreichischen Fliege...   \n",
       "2  Das Ort Arbing ist im 15 Gebäude entstanden un...   \n",
       "3  Die Ortschaften im Verwaltungs Bezirk der Bürg...   \n",
       "4  Die Ortschaft ist über den A726, über East Kil...   \n",
       "\n",
       "                                               guts2  guts3  \\\n",
       "0  Schon ab 1860 unter Fürst Ad wurden die Schlos...    NaN   \n",
       "1  Im Jahr 2000 fand die österreichische Flieger ...    NaN   \n",
       "2  Der Ort Arbing am Fuß der mittelalterlichen St...    NaN   \n",
       "3  Die Ortschaften im Verwaltungsgebiet der Bürge...    NaN   \n",
       "4  Die Ortschaft ist über A7, die Strathaven mit ...    NaN   \n",
       "\n",
       "                                               pivot  \n",
       "0  Erst 1860 wurden die Palasträume komplett reno...  \n",
       "1  Im Jahr 2000 fand der österreichische Pilot Si...  \n",
       "2  Das Dorf Arbing liegt am Fuße des mittelalterl...  \n",
       "3  Vor 1794 gehörte Bleialf zu Prüm, dessen Fürst...  \n",
       "4  Das Dorf ist mit dem Straßennetz über die A726...  "
      ]
     },
     "execution_count": 2,
     "metadata": {},
     "output_type": "execute_result"
    }
   ],
   "source": [
    "import pandas as pd\n",
    "\n",
    "wiki_path = \"../data/wiki_eval.csv\"\n",
    "\n",
    "wiki_eval = pd.read_csv(wiki_path)\n",
    "wiki_eval.head()"
   ]
  },
  {
   "cell_type": "code",
   "execution_count": 2,
   "metadata": {},
   "outputs": [
    {
     "data": {
      "text/html": [
       "<div>\n",
       "<style scoped>\n",
       "    .dataframe tbody tr th:only-of-type {\n",
       "        vertical-align: middle;\n",
       "    }\n",
       "\n",
       "    .dataframe tbody tr th {\n",
       "        vertical-align: top;\n",
       "    }\n",
       "\n",
       "    .dataframe thead th {\n",
       "        text-align: right;\n",
       "    }\n",
       "</style>\n",
       "<table border=\"1\" class=\"dataframe\">\n",
       "  <thead>\n",
       "    <tr style=\"text-align: right;\">\n",
       "      <th></th>\n",
       "      <th>paragraph</th>\n",
       "      <th>reference</th>\n",
       "      <th>pivot</th>\n",
       "      <th>guts1</th>\n",
       "      <th>guts2</th>\n",
       "    </tr>\n",
       "  </thead>\n",
       "  <tbody>\n",
       "    <tr>\n",
       "      <th>0</th>\n",
       "      <td>Wegen dieser leichten Vergänglichkeit wurde ,S...</td>\n",
       "      <td>Weil Seifenblasen nicht lange halten, wurden s...</td>\n",
       "      <td>Aufgrund dieser leichten Vergänglichkeit wurde...</td>\n",
       "      <td>Das leichte Vergänglichkeit wurde ,Das Blase‘ ...</td>\n",
       "      <td>Mit dieser leichten Vergänglichkeit wird ,Seif...</td>\n",
       "    </tr>\n",
       "    <tr>\n",
       "      <th>1</th>\n",
       "      <td>Eine Seifenblase entsteht, wenn sich ein dünne...</td>\n",
       "      <td>Eine Seifenblase entsteht, wenn sich eine klei...</td>\n",
       "      <td>Eine Seifenblase entsteht, wenn ein dünner Was...</td>\n",
       "      <td>Die Seifenblase entsteht, sobald sich ein dünn...</td>\n",
       "      <td>Ein Seifenblase entsteht,, wenn sich ein dicke...</td>\n",
       "    </tr>\n",
       "    <tr>\n",
       "      <th>2</th>\n",
       "      <td>Die Schichtdicke der Seifenblase lässt sich be...</td>\n",
       "      <td>Die Dicke der Seifenblase lässt sich beobachte...</td>\n",
       "      <td>Die Schichtdicke der Seifenblase kann beobacht...</td>\n",
       "      <td>Die Schichtdicke ist die Seifenblase lässt sic...</td>\n",
       "      <td>Die Schichtdicke des Seifenblasen lässt sich b...</td>\n",
       "    </tr>\n",
       "    <tr>\n",
       "      <th>3</th>\n",
       "      <td>So schildert der achte Gesang beispielsweise, ...</td>\n",
       "      <td>So schildert der achte Besang beispielsweise f...</td>\n",
       "      <td>Zum Beispiel beschreibt das achte Lied, wie er...</td>\n",
       "      <td>Der achte Gesang schildert den achte Gesang be...</td>\n",
       "      <td>Der achte Gesang hingegen, wie im Haus des Pha...</td>\n",
       "    </tr>\n",
       "    <tr>\n",
       "      <th>4</th>\n",
       "      <td>Vergleichbare Stellen belegen eine sorgfältige...</td>\n",
       "      <td>Es gibt Schriften, die erzählen, dass es üblic...</td>\n",
       "      <td>Ähnliche Orte zeigen eine sorgfältige Reinigun...</td>\n",
       "      <td>Esbare Stellen belegen eine gründliche Reinigu...</td>\n",
       "      <td>Berbare Stellen belegen eine gründliche Reinig...</td>\n",
       "    </tr>\n",
       "  </tbody>\n",
       "</table>\n",
       "</div>"
      ],
      "text/plain": [
       "                                           paragraph  \\\n",
       "0  Wegen dieser leichten Vergänglichkeit wurde ,S...   \n",
       "1  Eine Seifenblase entsteht, wenn sich ein dünne...   \n",
       "2  Die Schichtdicke der Seifenblase lässt sich be...   \n",
       "3  So schildert der achte Gesang beispielsweise, ...   \n",
       "4  Vergleichbare Stellen belegen eine sorgfältige...   \n",
       "\n",
       "                                           reference  \\\n",
       "0  Weil Seifenblasen nicht lange halten, wurden s...   \n",
       "1  Eine Seifenblase entsteht, wenn sich eine klei...   \n",
       "2  Die Dicke der Seifenblase lässt sich beobachte...   \n",
       "3  So schildert der achte Besang beispielsweise f...   \n",
       "4  Es gibt Schriften, die erzählen, dass es üblic...   \n",
       "\n",
       "                                               pivot  \\\n",
       "0  Aufgrund dieser leichten Vergänglichkeit wurde...   \n",
       "1  Eine Seifenblase entsteht, wenn ein dünner Was...   \n",
       "2  Die Schichtdicke der Seifenblase kann beobacht...   \n",
       "3  Zum Beispiel beschreibt das achte Lied, wie er...   \n",
       "4  Ähnliche Orte zeigen eine sorgfältige Reinigun...   \n",
       "\n",
       "                                               guts1  \\\n",
       "0  Das leichte Vergänglichkeit wurde ,Das Blase‘ ...   \n",
       "1  Die Seifenblase entsteht, sobald sich ein dünn...   \n",
       "2  Die Schichtdicke ist die Seifenblase lässt sic...   \n",
       "3  Der achte Gesang schildert den achte Gesang be...   \n",
       "4  Esbare Stellen belegen eine gründliche Reinigu...   \n",
       "\n",
       "                                               guts2  \n",
       "0  Mit dieser leichten Vergänglichkeit wird ,Seif...  \n",
       "1  Ein Seifenblase entsteht,, wenn sich ein dicke...  \n",
       "2  Die Schichtdicke des Seifenblasen lässt sich b...  \n",
       "3  Der achte Gesang hingegen, wie im Haus des Pha...  \n",
       "4  Berbare Stellen belegen eine gründliche Reinig...  "
      ]
     },
     "execution_count": 2,
     "metadata": {},
     "output_type": "execute_result"
    }
   ],
   "source": [
    "import pandas as pd\n",
    "tc_path = \"../data/tc_eval.csv\"\n",
    "\n",
    "tc_eval = pd.read_csv(tc_path)\n",
    "tc_eval.head()"
   ]
  },
  {
   "cell_type": "markdown",
   "metadata": {},
   "source": [
    "### Translate paragraphs to english"
   ]
  },
  {
   "cell_type": "code",
   "execution_count": 4,
   "metadata": {},
   "outputs": [],
   "source": [
    "from transformers import pipeline\n",
    "\n",
    "# Load de-en translation model \n",
    "pipe = pipeline(\"translation\", model='Helsinki-NLP/opus-mt-de-en', device=0, use_fast=True)"
   ]
  },
  {
   "cell_type": "code",
   "execution_count": null,
   "metadata": {},
   "outputs": [],
   "source": [
    "# translate wiki paragraphs\n",
    "wiki_o_en = [t['translation_text'] for t in pipe(wiki_eval['paragraph'].to_list())]"
   ]
  },
  {
   "cell_type": "code",
   "execution_count": 6,
   "metadata": {},
   "outputs": [],
   "source": [
    "# translate tc paragraphs\n",
    "tc_o_en = [t['translation_text'] for t in pipe(tc_eval['paragraph'].to_list())]"
   ]
  },
  {
   "cell_type": "code",
   "execution_count": 8,
   "metadata": {},
   "outputs": [
    {
     "data": {
      "text/plain": [
       "'Because of this slight transience, \"soap bubble\" became a metaphor for something that, although attractive, is contentless and contentless. In art, at the latest since the Baroque, the soap bubble is consistently used iconographically as a vanitas symbol and reflects both the beauty and the fleeting nature of human life.'"
      ]
     },
     "execution_count": 8,
     "metadata": {},
     "output_type": "execute_result"
    }
   ],
   "source": [
    "tc_o_en[0]"
   ]
  },
  {
   "cell_type": "markdown",
   "metadata": {},
   "source": [
    "### Simplify the English paragraphs"
   ]
  },
  {
   "cell_type": "code",
   "execution_count": 9,
   "metadata": {},
   "outputs": [
    {
     "name": "stdout",
     "output_type": "stream",
     "text": [
      "<All keys matched successfully>\n"
     ]
    }
   ],
   "source": [
    "from model_generator import Generator\n",
    "\n",
    "# load the KiS generator model\n",
    "model = Generator(\"gpt2-medium\", max_output_length=230, device='cuda')\n",
    "model.reload(\"gpt2_med_keep_it_simple.bin\")\n",
    "model.eval()"
   ]
  },
  {
   "cell_type": "code",
   "execution_count": null,
   "metadata": {},
   "outputs": [],
   "source": [
    "# Generate Simplifications for Wiki\n",
    "model_output = model.generate(wiki_o_en, num_runs=1, sample=False) # Greedy decoding\n",
    "wiki_simpl_en = [o['output_text'] for o in model_output]"
   ]
  },
  {
   "cell_type": "code",
   "execution_count": 10,
   "metadata": {},
   "outputs": [],
   "source": [
    "# Generate Simplifications for TC\n",
    "model_output = model.generate(tc_o_en, num_runs=1, sample=False) # Greedy decoding\n",
    "tc_simpl_en = [o['output_text'] for o in model_output]"
   ]
  },
  {
   "cell_type": "code",
   "execution_count": 11,
   "metadata": {},
   "outputs": [
    {
     "data": {
      "text/plain": [
       "'Because of this slight transience, \"soap bubble\" became a metaphor for something that, although attractive, is not contentless and does not reflect the beauty of life. In art, the baroque has always used soap bubble as a symbol of vanitas, and reflects both the beauty and the fleeting nature of human life.'"
      ]
     },
     "execution_count": 11,
     "metadata": {},
     "output_type": "execute_result"
    }
   ],
   "source": [
    "tc_simpl_en[0]"
   ]
  },
  {
   "cell_type": "markdown",
   "metadata": {},
   "source": [
    "### Translate the simplifications back to German"
   ]
  },
  {
   "cell_type": "code",
   "execution_count": 12,
   "metadata": {},
   "outputs": [],
   "source": [
    "pipe = pipeline(\"translation\", model='Helsinki-NLP/opus-mt-en-de', device=0, use_fast=True)"
   ]
  },
  {
   "cell_type": "code",
   "execution_count": null,
   "metadata": {},
   "outputs": [],
   "source": [
    "# re-translate simplified wiki paragraphs\n",
    "wiki_simpl_de = [t['translation_text'] for t in pipe(wiki_simpl_en)]"
   ]
  },
  {
   "cell_type": "code",
   "execution_count": 15,
   "metadata": {},
   "outputs": [],
   "source": [
    "# re-translate simplified tc paragraphs\n",
    "tc_simpl_en = [t['translation_text'] for t in pipe(tc_simpl_en)]"
   ]
  },
  {
   "cell_type": "code",
   "execution_count": 16,
   "metadata": {},
   "outputs": [
    {
     "data": {
      "text/plain": [
       "'Aufgrund dieser leichten Vergänglichkeit wurde die „Seifenblase\" zu einer Metapher für etwas, das zwar attraktiv ist, aber nicht zufrieden ist und nicht die Schönheit des Lebens widerspiegelt. In der Kunst hat der Barock Seifenblase immer als Symbol für Vanitas verwendet und spiegelt sowohl die Schönheit als auch die flüchtige Natur des menschlichen Lebens wider.'"
      ]
     },
     "execution_count": 16,
     "metadata": {},
     "output_type": "execute_result"
    }
   ],
   "source": [
    "tc_simpl_en[0]"
   ]
  },
  {
   "cell_type": "code",
   "execution_count": null,
   "metadata": {},
   "outputs": [],
   "source": [
    "# Save the simplifications in the wiki eval data\n",
    "wiki_eval['pivot'] = wiki_simpl_de\n",
    "wiki_eval.to_csv(wiki_path, index=False)"
   ]
  },
  {
   "cell_type": "code",
   "execution_count": 17,
   "metadata": {},
   "outputs": [],
   "source": [
    "tc_eval['pivot'] = tc_simpl_en\n",
    "tc_eval.to_csv(tc_path, index=False)"
   ]
  }
 ],
 "metadata": {
  "interpreter": {
   "hash": "04635d289a519a1410467dd0afb0db42f9184808881ca68b2eb5a687a20a5a94"
  },
  "kernelspec": {
   "display_name": "Python 3.7.3 64-bit",
   "language": "python",
   "name": "python3"
  },
  "language_info": {
   "codemirror_mode": {
    "name": "ipython",
    "version": 3
   },
   "file_extension": ".py",
   "mimetype": "text/x-python",
   "name": "python",
   "nbconvert_exporter": "python",
   "pygments_lexer": "ipython3",
   "version": "3.7.3"
  },
  "orig_nbformat": 4
 },
 "nbformat": 4,
 "nbformat_minor": 2
}
